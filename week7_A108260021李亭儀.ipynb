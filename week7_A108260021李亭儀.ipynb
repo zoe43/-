{
  "nbformat": 4,
  "nbformat_minor": 0,
  "metadata": {
    "colab": {
      "name": "week7-A108260021李亭儀.ipynb",
      "provenance": [],
      "collapsed_sections": [],
      "include_colab_link": true
    },
    "kernelspec": {
      "name": "python3",
      "display_name": "Python 3"
    }
  },
  "cells": [
    {
      "cell_type": "markdown",
      "metadata": {
        "id": "view-in-github",
        "colab_type": "text"
      },
      "source": [
        "<a href=\"https://colab.research.google.com/github/zoe43/108-computation-syllabus/blob/master/week7_A108260021%E6%9D%8E%E4%BA%AD%E5%84%80.ipynb\" target=\"_parent\"><img src=\"https://colab.research.google.com/assets/colab-badge.svg\" alt=\"Open In Colab\"/></a>"
      ]
    },
    {
      "cell_type": "code",
      "metadata": {
        "id": "StJ5TdUAQ-pG",
        "colab_type": "code",
        "outputId": "dace0e21-8be8-495d-b54a-f70a5a78aa1b",
        "colab": {
          "base_uri": "https://localhost:8080/",
          "height": 108
        }
      },
      "source": [
        "第一次期中考成績=int(input('請輸入第一次期中考成績?'))\n",
        "第二次期中考成績=int(input('請輸入第二次期中考成績?'))\n",
        "期末考=int(input('請輸入期末考成績?'))\n",
        "\n",
        "sum=第一次期中考成績+第二次期中考成績+期末考\n",
        "print('總分為',sum)\n",
        "\n",
        "\n",
        "average=sum/3\n",
        "print('平均為',average)\n",
        "              "
      ],
      "execution_count": 0,
      "outputs": [
        {
          "output_type": "stream",
          "text": [
            "請輸入第一次期中考成績?75\n",
            "請輸入第二次期中考成績?80\n",
            "請輸入期末考成績?65\n",
            "總分為 220\n",
            "平均為 73.33333333333333\n"
          ],
          "name": "stdout"
        }
      ]
    },
    {
      "cell_type": "code",
      "metadata": {
        "id": "bu9KZawjaKry",
        "colab_type": "code",
        "outputId": "117ee389-24ec-433c-8d7c-d919da0b894f",
        "colab": {
          "base_uri": "https://localhost:8080/",
          "height": 52
        }
      },
      "source": [
        "number=input('請輸入座號?')\n",
        "print('組別為',8)"
      ],
      "execution_count": 0,
      "outputs": [
        {
          "output_type": "stream",
          "text": [
            "請輸入座號?31\n",
            "組別為 8\n"
          ],
          "name": "stdout"
        }
      ]
    },
    {
      "cell_type": "code",
      "metadata": {
        "id": "AE6q58e4aLDD",
        "colab_type": "code",
        "colab": {}
      },
      "source": [
        "數量=int(input('請輸入購買飲料的罐數?'))\n",
        "一打=int(數量/12)\n",
        "個數=(數量-一打*12)\n",
        "一打價格=一打*200\n",
        "個數價格=個數*20\n",
        "總價=一打價格+個數價格\n",
        "print(\"需花費\",總價)"
      ],
      "execution_count": 0,
      "outputs": []
    },
    {
      "cell_type": "code",
      "metadata": {
        "id": "ezNARXh7aLI7",
        "colab_type": "code",
        "outputId": "cb8ccc79-b640-4f5f-b570-475849badde5",
        "colab": {
          "base_uri": "https://localhost:8080/",
          "height": 72
        }
      },
      "source": [
        "c=float(input(\"請輸入幾尺?\"))\n",
        "d=float(input(\"請輸入幾吋?\"))\n",
        "y=(c*12+d)*2.54\n",
        "print('轉換為', y)      \n",
        "        "
      ],
      "execution_count": 0,
      "outputs": [
        {
          "output_type": "stream",
          "text": [
            "請輸入幾尺?5\n",
            "請輸入幾吋?8\n",
            "轉換為 172.72\n"
          ],
          "name": "stdout"
        }
      ]
    },
    {
      "cell_type": "code",
      "metadata": {
        "id": "KLhtWIIyaLPS",
        "colab_type": "code",
        "outputId": "26b3ee29-f976-45af-ff4a-aa7f260c297f",
        "colab": {
          "base_uri": "https://localhost:8080/",
          "height": 85
        }
      },
      "source": [
        "s = input('請輸入一行英文句子?')\n",
        "words = s.split(' ')\n",
        "print('將英文句子以空白字元切割後,獲得單字為', words)\n",
        "s2 = ' '.join(words)\n",
        "print('以空白字元結合所有單字後,獲得句子為', s2)\n",
        "s3 = s.title()\n",
        "print('將每個單字字首轉大寫後,獲得句子為',s3)"
      ],
      "execution_count": 0,
      "outputs": [
        {
          "output_type": "stream",
          "text": [
            "請輸入一行英文句子?an apple a day keeps the doctor away\n",
            "將英文句子以空白字元切割後,獲得單字為 ['an', 'apple', 'a', 'day', 'keeps', 'the', 'doctor', 'away']\n",
            "以空白字元結合所有單字後,獲得句子為 an apple a day keeps the doctor away\n",
            "將每個單字字首轉大寫後,獲得句子為 An Apple A Day Keeps The Doctor Away\n"
          ],
          "name": "stdout"
        }
      ]
    },
    {
      "cell_type": "code",
      "metadata": {
        "id": "d5p8IvbWaLVG",
        "colab_type": "code",
        "colab": {}
      },
      "source": [
        ""
      ],
      "execution_count": 0,
      "outputs": []
    },
    {
      "cell_type": "code",
      "metadata": {
        "id": "zwTT2EDCYVE7",
        "colab_type": "code",
        "colab": {}
      },
      "source": [
        ""
      ],
      "execution_count": 0,
      "outputs": []
    }
  ]
}